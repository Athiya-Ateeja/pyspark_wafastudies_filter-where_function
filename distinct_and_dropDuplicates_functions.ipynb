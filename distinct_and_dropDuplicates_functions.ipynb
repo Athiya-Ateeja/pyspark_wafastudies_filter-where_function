{
 "cells": [
  {
   "cell_type": "markdown",
   "metadata": {
    "application/vnd.databricks.v1+cell": {
     "cellMetadata": {
      "byteLimit": 2048000,
      "rowLimit": 10000
     },
     "inputWidgets": {},
     "nuid": "56f5362c-1b88-4ae3-a913-4350e17cd011",
     "showTitle": false,
     "title": ""
    }
   },
   "source": [
    "## distinct() & dropDuplicates()\n",
    "- pyspark distinct() function is used to remove duplicate rows (all columns)\n",
    "- dropDuplicate() function is used to remove duplicates based on selected (one or muliple columns)\n",
    "- so basically we will get distinct rows by using these functions"
   ]
  },
  {
   "cell_type": "code",
   "execution_count": 0,
   "metadata": {
    "application/vnd.databricks.v1+cell": {
     "cellMetadata": {
      "byteLimit": 2048000,
      "rowLimit": 10000
     },
     "inputWidgets": {},
     "nuid": "81ea5581-7716-417d-b37d-3c09fbf427bd",
     "showTitle": false,
     "title": ""
    }
   },
   "outputs": [
    {
     "output_type": "stream",
     "name": "stdout",
     "output_type": "stream",
     "text": [
      "+---+------+------+------+\n| Id|  Name|Gender|Salary|\n+---+------+------+------+\n|  1|athiya|female|  2000|\n|  2|rimsha|female|  3000|\n|  3| Rehan|  male|  4000|\n|  4|  Neha|female|  5000|\n+---+------+------+------+\n\n"
     ]
    }
   ],
   "source": [
    "data = [(1 , 'athiya' , 'female' , 2000),\n",
    "        (2 , 'rimsha' , 'female' , 3000),\n",
    "        (3 , 'Rehan' , 'male' , 4000),\n",
    "        (4 , 'Neha' , 'female' , 5000)]\n",
    "\n",
    "schema = ['Id' , 'Name' , 'Gender' , 'Salary']\n",
    "df = spark.createDataFrame(data , schema)\n",
    "df.show()"
   ]
  },
  {
   "cell_type": "code",
   "execution_count": 0,
   "metadata": {
    "application/vnd.databricks.v1+cell": {
     "cellMetadata": {
      "byteLimit": 2048000,
      "rowLimit": 10000
     },
     "inputWidgets": {},
     "nuid": "3af2a5da-6536-4cb7-add0-87d2123e79c9",
     "showTitle": false,
     "title": ""
    }
   },
   "outputs": [
    {
     "output_type": "stream",
     "name": "stdout",
     "output_type": "stream",
     "text": [
      "+---+------+------+------+\n| Id|  Name|Gender|Salary|\n+---+------+------+------+\n|  1|athiya|female|  2000|\n|  2|rimsha|female|  3000|\n|  3| Rehan|  male|  4000|\n|  4|  Neha|female|  5000|\n+---+------+------+------+\n\n"
     ]
    }
   ],
   "source": [
    "df1 = df.distinct()\n",
    "df1.show()"
   ]
  },
  {
   "cell_type": "code",
   "execution_count": 0,
   "metadata": {
    "application/vnd.databricks.v1+cell": {
     "cellMetadata": {
      "byteLimit": 2048000,
      "rowLimit": 10000
     },
     "inputWidgets": {},
     "nuid": "2f48fab9-6f83-4e59-9a1f-89756a5c490b",
     "showTitle": false,
     "title": ""
    }
   },
   "outputs": [
    {
     "output_type": "stream",
     "name": "stdout",
     "output_type": "stream",
     "text": [
      "+---+------+------+------+\n| Id|  Name|Gender|Salary|\n+---+------+------+------+\n|  1|athiya|female|  2000|\n|  3| Rehan|  male|  4000|\n+---+------+------+------+\n\n"
     ]
    }
   ],
   "source": [
    "df.dropDuplicates(['Gender']).show()"
   ]
  }
 ],
 "metadata": {
  "application/vnd.databricks.v1+notebook": {
   "dashboards": [],
   "language": "python",
   "notebookMetadata": {
    "pythonIndentUnit": 4
   },
   "notebookName": "distinct_and_dropDuplicates_functions",
   "widgets": {}
  }
 },
 "nbformat": 4,
 "nbformat_minor": 0
}
