{
 "cells": [
  {
   "cell_type": "code",
   "execution_count": 0,
   "metadata": {
    "application/vnd.databricks.v1+cell": {
     "cellMetadata": {
      "byteLimit": 2048000,
      "rowLimit": 10000
     },
     "inputWidgets": {},
     "nuid": "47edb484-6272-47c0-a51e-0eb5931addb1",
     "showTitle": false,
     "title": ""
    }
   },
   "outputs": [
    {
     "output_type": "stream",
     "name": "stdout",
     "output_type": "stream",
     "text": [
      "+---+--------+------+------+-------+\n| Id|    Name|Gender|Salary|    dep|\n+---+--------+------+------+-------+\n|  1|  Maheer|     M|  2000|     IT|\n|  2|    wafa|     M|  4000|     HR|\n|  3|     asi|     F|  3000|Payroll|\n|  4|sarfaraj|     M|  3000|     HR|\n+---+--------+------+------+-------+\n\n"
     ]
    }
   ],
   "source": [
    "data = [(1,'Maheer','M',2000,'IT'),(2,'wafa','M',4000,'HR'),(3,'asi','F',3000,'Payroll'),(4,'sarfaraj','M',3000,'HR')]\n",
    "schema = ['Id','Name','Gender','Salary','dep']\n",
    "\n",
    "df = spark.createDataFrame(data,schema)\n",
    "df.show()"
   ]
  },
  {
   "cell_type": "markdown",
   "metadata": {
    "application/vnd.databricks.v1+cell": {
     "cellMetadata": {},
     "inputWidgets": {},
     "nuid": "6c4868e2-5ab9-4a3f-ac24-2c6f16b201ed",
     "showTitle": false,
     "title": ""
    }
   },
   "source": [
    "## Both sort() & orderBy() acts as same"
   ]
  },
  {
   "cell_type": "code",
   "execution_count": 0,
   "metadata": {
    "application/vnd.databricks.v1+cell": {
     "cellMetadata": {
      "byteLimit": 2048000,
      "rowLimit": 10000
     },
     "inputWidgets": {},
     "nuid": "1353b4ce-0d38-40b9-b95d-e963c18636b9",
     "showTitle": false,
     "title": ""
    }
   },
   "outputs": [
    {
     "output_type": "stream",
     "name": "stdout",
     "output_type": "stream",
     "text": [
      "+---+--------+------+------+-------+\n| Id|    Name|Gender|Salary|    dep|\n+---+--------+------+------+-------+\n|  1|  Maheer|     M|  2000|     IT|\n|  4|sarfaraj|     M|  3000|     HR|\n|  3|     asi|     F|  3000|Payroll|\n|  2|    wafa|     M|  4000|     HR|\n+---+--------+------+------+-------+\n\n+---+--------+------+------+-------+\n| Id|    Name|Gender|Salary|    dep|\n+---+--------+------+------+-------+\n|  1|  Maheer|     M|  2000|     IT|\n|  3|     asi|     F|  3000|Payroll|\n|  4|sarfaraj|     M|  3000|     HR|\n|  2|    wafa|     M|  4000|     HR|\n+---+--------+------+------+-------+\n\n"
     ]
    }
   ],
   "source": [
    "df.sort(['Salary']).show()\n",
    "df.orderBy(df.Salary).show()"
   ]
  },
  {
   "cell_type": "code",
   "execution_count": 0,
   "metadata": {
    "application/vnd.databricks.v1+cell": {
     "cellMetadata": {
      "byteLimit": 2048000,
      "rowLimit": 10000
     },
     "inputWidgets": {},
     "nuid": "5ea43efa-ae68-4657-844b-47a1910c1a19",
     "showTitle": false,
     "title": ""
    }
   },
   "outputs": [
    {
     "output_type": "stream",
     "name": "stdout",
     "output_type": "stream",
     "text": [
      "+---+--------+------+------+-------+\n| Id|    Name|Gender|Salary|    dep|\n+---+--------+------+------+-------+\n|  2|    wafa|     M|  4000|     HR|\n|  4|sarfaraj|     M|  3000|     HR|\n|  3|     asi|     F|  3000|Payroll|\n|  1|  Maheer|     M|  2000|     IT|\n+---+--------+------+------+-------+\n\n"
     ]
    }
   ],
   "source": [
    "df.sort(df.Name.desc()).show()"
   ]
  },
  {
   "cell_type": "code",
   "execution_count": 0,
   "metadata": {
    "application/vnd.databricks.v1+cell": {
     "cellMetadata": {
      "byteLimit": 2048000,
      "rowLimit": 10000
     },
     "inputWidgets": {},
     "nuid": "e60bf98d-6623-4e9e-bd31-cf148c9e48d0",
     "showTitle": false,
     "title": ""
    }
   },
   "outputs": [
    {
     "output_type": "stream",
     "name": "stdout",
     "output_type": "stream",
     "text": [
      "+---+--------+------+------+-------+\n| Id|    Name|Gender|Salary|    dep|\n+---+--------+------+------+-------+\n|  3|     asi|     F|  3000|Payroll|\n|  1|  Maheer|     M|  2000|     IT|\n|  2|    wafa|     M|  4000|     HR|\n|  4|sarfaraj|     M|  3000|     HR|\n+---+--------+------+------+-------+\n\n"
     ]
    }
   ],
   "source": [
    "df.sort(df.dep.desc()).show()"
   ]
  },
  {
   "cell_type": "code",
   "execution_count": 0,
   "metadata": {
    "application/vnd.databricks.v1+cell": {
     "cellMetadata": {
      "byteLimit": 2048000,
      "rowLimit": 10000
     },
     "inputWidgets": {},
     "nuid": "b1260c56-f201-4912-86d3-6bbe42898f86",
     "showTitle": false,
     "title": ""
    }
   },
   "outputs": [
    {
     "output_type": "stream",
     "name": "stdout",
     "output_type": "stream",
     "text": [
      "+---+--------+------+------+-------+\n| Id|    Name|Gender|Salary|    dep|\n+---+--------+------+------+-------+\n|  1|  Maheer|     M|  2000|     IT|\n|  3|     asi|     F|  3000|Payroll|\n|  4|sarfaraj|     M|  3000|     HR|\n|  2|    wafa|     M|  4000|     HR|\n+---+--------+------+------+-------+\n\n+---+--------+------+------+-------+\n| Id|    Name|Gender|Salary|    dep|\n+---+--------+------+------+-------+\n|  1|  Maheer|     M|  2000|     IT|\n|  3|     asi|     F|  3000|Payroll|\n|  4|sarfaraj|     M|  3000|     HR|\n|  2|    wafa|     M|  4000|     HR|\n+---+--------+------+------+-------+\n\n"
     ]
    }
   ],
   "source": [
    "df.sort(df.Name.asc(),df.dep.desc()).show()\n",
    "df.orderBy(df.Name.asc(),df.dep.desc()).show()"
   ]
  }
 ],
 "metadata": {
  "application/vnd.databricks.v1+notebook": {
   "dashboards": [],
   "language": "python",
   "notebookMetadata": {
    "pythonIndentUnit": 4
   },
   "notebookName": "orderBy_and_sort_NTBK",
   "widgets": {}
  }
 },
 "nbformat": 4,
 "nbformat_minor": 0
}
