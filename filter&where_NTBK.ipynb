{
 "cells": [
  {
   "cell_type": "code",
   "execution_count": 0,
   "metadata": {
    "application/vnd.databricks.v1+cell": {
     "cellMetadata": {
      "byteLimit": 2048000,
      "rowLimit": 10000
     },
     "inputWidgets": {},
     "nuid": "e42dc1ea-f287-4faa-bde9-e08fb590614a",
     "showTitle": false,
     "title": ""
    }
   },
   "outputs": [
    {
     "output_type": "stream",
     "name": "stdout",
     "output_type": "stream",
     "text": [
      "+---+----+------+------+\n| id|name|gender|salary|\n+---+----+------+------+\n|  1|   a|  male|  2000|\n|  2|   b|female|  4000|\n|  3|   c|  male|  5000|\n|  4|   d|female|  3000|\n+---+----+------+------+\n\n"
     ]
    }
   ],
   "source": [
    "data = [(1,'a','male',2000),(2,'b','female',4000),(3,'c','male',5000),(4,'d','female',3000)]\n",
    "schema = ['id','name','gender','salary']\n",
    "df = spark.createDataFrame(data,schema)\n",
    "df.show()"
   ]
  },
  {
   "cell_type": "markdown",
   "metadata": {
    "application/vnd.databricks.v1+cell": {
     "cellMetadata": {},
     "inputWidgets": {},
     "nuid": "254f97bc-8b13-4445-b656-09ed88187983",
     "showTitle": false,
     "title": ""
    }
   },
   "source": [
    "##filter()"
   ]
  },
  {
   "cell_type": "code",
   "execution_count": 0,
   "metadata": {
    "application/vnd.databricks.v1+cell": {
     "cellMetadata": {
      "byteLimit": 2048000,
      "rowLimit": 10000
     },
     "inputWidgets": {},
     "nuid": "10f525da-0b1f-4f03-bf31-833599d00efe",
     "showTitle": false,
     "title": ""
    }
   },
   "outputs": [
    {
     "output_type": "stream",
     "name": "stdout",
     "output_type": "stream",
     "text": [
      "+---+----+------+------+\n| id|name|gender|salary|\n+---+----+------+------+\n|  1|   a|  male|  2000|\n|  3|   c|  male|  5000|\n+---+----+------+------+\n\n"
     ]
    }
   ],
   "source": [
    "df.filter(df.gender=='male').show()"
   ]
  },
  {
   "cell_type": "code",
   "execution_count": 0,
   "metadata": {
    "application/vnd.databricks.v1+cell": {
     "cellMetadata": {
      "byteLimit": 2048000,
      "rowLimit": 10000
     },
     "inputWidgets": {},
     "nuid": "3f9bc64e-5b27-41de-98d1-f2ed75e4ce0c",
     "showTitle": false,
     "title": ""
    }
   },
   "outputs": [
    {
     "output_type": "stream",
     "name": "stdout",
     "output_type": "stream",
     "text": [
      "+---+----+------+------+\n| id|name|gender|salary|\n+---+----+------+------+\n|  1|   a|  male|  2000|\n+---+----+------+------+\n\n"
     ]
    }
   ],
   "source": [
    "df.filter(df.name=='a').show()"
   ]
  },
  {
   "cell_type": "markdown",
   "metadata": {
    "application/vnd.databricks.v1+cell": {
     "cellMetadata": {},
     "inputWidgets": {},
     "nuid": "af4b9fc1-9b54-456e-91c4-72f400f92efb",
     "showTitle": false,
     "title": ""
    }
   },
   "source": [
    "##where()"
   ]
  },
  {
   "cell_type": "code",
   "execution_count": 0,
   "metadata": {
    "application/vnd.databricks.v1+cell": {
     "cellMetadata": {
      "byteLimit": 2048000,
      "rowLimit": 10000
     },
     "inputWidgets": {},
     "nuid": "8ee5fddd-dd99-467e-94ff-db9e50698aea",
     "showTitle": false,
     "title": ""
    }
   },
   "outputs": [
    {
     "output_type": "stream",
     "name": "stdout",
     "output_type": "stream",
     "text": [
      "+---+----+------+------+\n| id|name|gender|salary|\n+---+----+------+------+\n|  2|   b|female|  4000|\n+---+----+------+------+\n\n"
     ]
    }
   ],
   "source": [
    "df.where(df.name=='b').show()"
   ]
  },
  {
   "cell_type": "code",
   "execution_count": 0,
   "metadata": {
    "application/vnd.databricks.v1+cell": {
     "cellMetadata": {
      "byteLimit": 2048000,
      "rowLimit": 10000
     },
     "inputWidgets": {},
     "nuid": "71d908bd-c28f-4729-9a42-10c8fca3b33a",
     "showTitle": false,
     "title": ""
    }
   },
   "outputs": [],
   "source": [
    "df1 = df.where((df.name=='c') & (df.salary==5000))"
   ]
  },
  {
   "cell_type": "code",
   "execution_count": 0,
   "metadata": {
    "application/vnd.databricks.v1+cell": {
     "cellMetadata": {
      "byteLimit": 2048000,
      "rowLimit": 10000
     },
     "inputWidgets": {},
     "nuid": "57f5d157-7617-42c5-8cae-fd579aceac7a",
     "showTitle": false,
     "title": ""
    }
   },
   "outputs": [
    {
     "output_type": "stream",
     "name": "stdout",
     "output_type": "stream",
     "text": [
      "+---+----+------+------+\n| id|name|gender|salary|\n+---+----+------+------+\n|  3|   c|  male|  5000|\n+---+----+------+------+\n\n"
     ]
    }
   ],
   "source": [
    "df1.show()"
   ]
  }
 ],
 "metadata": {
  "application/vnd.databricks.v1+notebook": {
   "dashboards": [],
   "language": "python",
   "notebookMetadata": {
    "pythonIndentUnit": 4
   },
   "notebookName": "filter&where_NTBK",
   "widgets": {}
  }
 },
 "nbformat": 4,
 "nbformat_minor": 0
}
